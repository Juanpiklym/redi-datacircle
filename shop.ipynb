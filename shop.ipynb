{
 "cells": [
  {
   "cell_type": "markdown",
   "id": "258a1f5e",
   "metadata": {},
   "source": [
    "## Import libraries and csv"
   ]
  },
  {
   "cell_type": "code",
   "execution_count": 92,
   "id": "b5e2d548",
   "metadata": {},
   "outputs": [],
   "source": [
    "import pandas as pd\n",
    "import sqlite3\n",
    "import matplotlib.pyplot as plt\n",
    "import seaborn as sns\n",
    "\n",
    "# Read the CSV file into a Pandas DataFrame with a header row\n",
    "\n",
    "customers = pd.read_csv('/Users/Juan/Macbook/DA_files/Data Circle/customers.csv', header=0)\n",
    "orders = pd.read_csv('/Users/Juan/Macbook/DA_files/Data Circle/orders.csv', header=0)\n",
    "payments = pd.read_csv('/Users/Juan/Macbook/DA_files/Data Circle/payments.csv', header=0)"
   ]
  },
  {
   "cell_type": "markdown",
   "id": "4a21da45",
   "metadata": {},
   "source": [
    "## \n",
    "## Check df and null values"
   ]
  },
  {
   "cell_type": "code",
   "execution_count": 93,
   "id": "245dc942",
   "metadata": {},
   "outputs": [
    {
     "name": "stdout",
     "output_type": "stream",
     "text": [
      "<class 'pandas.core.frame.DataFrame'>\n",
      "RangeIndex: 100 entries, 0 to 99\n",
      "Data columns (total 3 columns):\n",
      " #   Column      Non-Null Count  Dtype \n",
      "---  ------      --------------  ----- \n",
      " 0   ID          100 non-null    int64 \n",
      " 1   FIRST_NAME  100 non-null    object\n",
      " 2   LAST_NAME   100 non-null    object\n",
      "dtypes: int64(1), object(2)\n",
      "memory usage: 2.5+ KB\n"
     ]
    }
   ],
   "source": [
    "customers.info()"
   ]
  },
  {
   "cell_type": "code",
   "execution_count": 94,
   "id": "4dd35440",
   "metadata": {},
   "outputs": [
    {
     "name": "stdout",
     "output_type": "stream",
     "text": [
      "<class 'pandas.core.frame.DataFrame'>\n",
      "RangeIndex: 99 entries, 0 to 98\n",
      "Data columns (total 4 columns):\n",
      " #   Column      Non-Null Count  Dtype \n",
      "---  ------      --------------  ----- \n",
      " 0   ID          99 non-null     int64 \n",
      " 1   USER_ID     99 non-null     int64 \n",
      " 2   ORDER_DATE  99 non-null     object\n",
      " 3   STATUS      99 non-null     object\n",
      "dtypes: int64(2), object(2)\n",
      "memory usage: 3.2+ KB\n"
     ]
    }
   ],
   "source": [
    "orders.info()"
   ]
  },
  {
   "cell_type": "code",
   "execution_count": 95,
   "id": "04671fd1",
   "metadata": {},
   "outputs": [
    {
     "name": "stdout",
     "output_type": "stream",
     "text": [
      "<class 'pandas.core.frame.DataFrame'>\n",
      "RangeIndex: 120 entries, 0 to 119\n",
      "Data columns (total 6 columns):\n",
      " #   Column         Non-Null Count  Dtype \n",
      "---  ------         --------------  ----- \n",
      " 0   ID             120 non-null    int64 \n",
      " 1   ORDERID        120 non-null    int64 \n",
      " 2   PAYMENTMETHOD  120 non-null    object\n",
      " 3   STATUS         120 non-null    object\n",
      " 4   AMOUNT         120 non-null    int64 \n",
      " 5   CREATED        120 non-null    object\n",
      "dtypes: int64(3), object(3)\n",
      "memory usage: 5.8+ KB\n"
     ]
    }
   ],
   "source": [
    "payments.info()"
   ]
  },
  {
   "cell_type": "markdown",
   "id": "eb02197c",
   "metadata": {},
   "source": [
    "#### We realize there are no null-values and                                                                                                                                                                      that we should rename some of the column names for better understanding."
   ]
  },
  {
   "cell_type": "markdown",
   "id": "79747bae",
   "metadata": {},
   "source": [
    "## \n",
    "## Rename columns"
   ]
  },
  {
   "cell_type": "code",
   "execution_count": 96,
   "id": "55c852c7",
   "metadata": {},
   "outputs": [],
   "source": [
    "customers.rename(columns={'ID': 'CUSTOMER_ID'}, inplace=True)"
   ]
  },
  {
   "cell_type": "code",
   "execution_count": 97,
   "id": "2ecad5fd",
   "metadata": {},
   "outputs": [],
   "source": [
    "orders.rename(columns={'ID': 'ORDER_ID', 'USER_ID': 'CUSTOMER_ID'}, inplace=True)"
   ]
  },
  {
   "cell_type": "code",
   "execution_count": 98,
   "id": "76c593c2",
   "metadata": {},
   "outputs": [],
   "source": [
    "payments.rename(columns={'ID': 'PAYMENT_ID', 'ORDERID': 'ORDER_ID', 'PAYMENTMETHOD': 'PAYMENT_METHOD'}, inplace=True)"
   ]
  },
  {
   "cell_type": "markdown",
   "id": "38f99950",
   "metadata": {},
   "source": [
    "# \n",
    "# Df head( )\n",
    " "
   ]
  },
  {
   "cell_type": "markdown",
   "id": "f9b1c71a",
   "metadata": {},
   "source": [
    "### CUSTOMERS"
   ]
  },
  {
   "cell_type": "code",
   "execution_count": 99,
   "id": "0b67bc53",
   "metadata": {},
   "outputs": [
    {
     "data": {
      "text/html": [
       "<div>\n",
       "<style scoped>\n",
       "    .dataframe tbody tr th:only-of-type {\n",
       "        vertical-align: middle;\n",
       "    }\n",
       "\n",
       "    .dataframe tbody tr th {\n",
       "        vertical-align: top;\n",
       "    }\n",
       "\n",
       "    .dataframe thead th {\n",
       "        text-align: right;\n",
       "    }\n",
       "</style>\n",
       "<table border=\"1\" class=\"dataframe\">\n",
       "  <thead>\n",
       "    <tr style=\"text-align: right;\">\n",
       "      <th></th>\n",
       "      <th>CUSTOMER_ID</th>\n",
       "      <th>FIRST_NAME</th>\n",
       "      <th>LAST_NAME</th>\n",
       "    </tr>\n",
       "  </thead>\n",
       "  <tbody>\n",
       "    <tr>\n",
       "      <th>0</th>\n",
       "      <td>1</td>\n",
       "      <td>Michael</td>\n",
       "      <td>P.</td>\n",
       "    </tr>\n",
       "    <tr>\n",
       "      <th>1</th>\n",
       "      <td>2</td>\n",
       "      <td>Shawn</td>\n",
       "      <td>M.</td>\n",
       "    </tr>\n",
       "    <tr>\n",
       "      <th>2</th>\n",
       "      <td>3</td>\n",
       "      <td>Kathleen</td>\n",
       "      <td>P.</td>\n",
       "    </tr>\n",
       "    <tr>\n",
       "      <th>3</th>\n",
       "      <td>4</td>\n",
       "      <td>Jimmy</td>\n",
       "      <td>C.</td>\n",
       "    </tr>\n",
       "    <tr>\n",
       "      <th>4</th>\n",
       "      <td>5</td>\n",
       "      <td>Katherine</td>\n",
       "      <td>R.</td>\n",
       "    </tr>\n",
       "  </tbody>\n",
       "</table>\n",
       "</div>"
      ],
      "text/plain": [
       "   CUSTOMER_ID FIRST_NAME LAST_NAME\n",
       "0            1    Michael        P.\n",
       "1            2      Shawn        M.\n",
       "2            3   Kathleen        P.\n",
       "3            4      Jimmy        C.\n",
       "4            5  Katherine        R."
      ]
     },
     "execution_count": 99,
     "metadata": {},
     "output_type": "execute_result"
    }
   ],
   "source": [
    "customers.head()"
   ]
  },
  {
   "cell_type": "markdown",
   "id": "d71ee331",
   "metadata": {},
   "source": [
    "#### Basic table, we should have in mind that the last name is only the inicial\n",
    "#### "
   ]
  },
  {
   "cell_type": "markdown",
   "id": "00d9011a",
   "metadata": {},
   "source": [
    "### ORDERS"
   ]
  },
  {
   "cell_type": "code",
   "execution_count": 100,
   "id": "f370640d",
   "metadata": {},
   "outputs": [
    {
     "data": {
      "text/html": [
       "<div>\n",
       "<style scoped>\n",
       "    .dataframe tbody tr th:only-of-type {\n",
       "        vertical-align: middle;\n",
       "    }\n",
       "\n",
       "    .dataframe tbody tr th {\n",
       "        vertical-align: top;\n",
       "    }\n",
       "\n",
       "    .dataframe thead th {\n",
       "        text-align: right;\n",
       "    }\n",
       "</style>\n",
       "<table border=\"1\" class=\"dataframe\">\n",
       "  <thead>\n",
       "    <tr style=\"text-align: right;\">\n",
       "      <th></th>\n",
       "      <th>ORDER_ID</th>\n",
       "      <th>CUSTOMER_ID</th>\n",
       "      <th>ORDER_DATE</th>\n",
       "      <th>STATUS</th>\n",
       "    </tr>\n",
       "  </thead>\n",
       "  <tbody>\n",
       "    <tr>\n",
       "      <th>0</th>\n",
       "      <td>1</td>\n",
       "      <td>1</td>\n",
       "      <td>2018-01-01</td>\n",
       "      <td>returned</td>\n",
       "    </tr>\n",
       "    <tr>\n",
       "      <th>1</th>\n",
       "      <td>2</td>\n",
       "      <td>3</td>\n",
       "      <td>2018-01-02</td>\n",
       "      <td>completed</td>\n",
       "    </tr>\n",
       "    <tr>\n",
       "      <th>2</th>\n",
       "      <td>3</td>\n",
       "      <td>94</td>\n",
       "      <td>2018-01-04</td>\n",
       "      <td>completed</td>\n",
       "    </tr>\n",
       "    <tr>\n",
       "      <th>3</th>\n",
       "      <td>4</td>\n",
       "      <td>50</td>\n",
       "      <td>2018-01-05</td>\n",
       "      <td>completed</td>\n",
       "    </tr>\n",
       "    <tr>\n",
       "      <th>4</th>\n",
       "      <td>5</td>\n",
       "      <td>64</td>\n",
       "      <td>2018-01-05</td>\n",
       "      <td>completed</td>\n",
       "    </tr>\n",
       "  </tbody>\n",
       "</table>\n",
       "</div>"
      ],
      "text/plain": [
       "   ORDER_ID  CUSTOMER_ID  ORDER_DATE     STATUS\n",
       "0         1            1  2018-01-01   returned\n",
       "1         2            3  2018-01-02  completed\n",
       "2         3           94  2018-01-04  completed\n",
       "3         4           50  2018-01-05  completed\n",
       "4         5           64  2018-01-05  completed"
      ]
     },
     "execution_count": 100,
     "metadata": {},
     "output_type": "execute_result"
    }
   ],
   "source": [
    "orders.head()"
   ]
  },
  {
   "cell_type": "markdown",
   "id": "323d0231",
   "metadata": {},
   "source": [
    "#### One customer can have multiple orders, but not the other way around. Important to check STATUS when analyzing the whole df\n",
    "#### "
   ]
  },
  {
   "cell_type": "markdown",
   "id": "8ec37a35",
   "metadata": {},
   "source": [
    "### PAYMENTS"
   ]
  },
  {
   "cell_type": "code",
   "execution_count": 101,
   "id": "27aad57f",
   "metadata": {},
   "outputs": [
    {
     "data": {
      "text/html": [
       "<div>\n",
       "<style scoped>\n",
       "    .dataframe tbody tr th:only-of-type {\n",
       "        vertical-align: middle;\n",
       "    }\n",
       "\n",
       "    .dataframe tbody tr th {\n",
       "        vertical-align: top;\n",
       "    }\n",
       "\n",
       "    .dataframe thead th {\n",
       "        text-align: right;\n",
       "    }\n",
       "</style>\n",
       "<table border=\"1\" class=\"dataframe\">\n",
       "  <thead>\n",
       "    <tr style=\"text-align: right;\">\n",
       "      <th></th>\n",
       "      <th>PAYMENT_ID</th>\n",
       "      <th>ORDER_ID</th>\n",
       "      <th>PAYMENT_METHOD</th>\n",
       "      <th>STATUS</th>\n",
       "      <th>AMOUNT</th>\n",
       "      <th>CREATED</th>\n",
       "    </tr>\n",
       "  </thead>\n",
       "  <tbody>\n",
       "    <tr>\n",
       "      <th>0</th>\n",
       "      <td>1</td>\n",
       "      <td>1</td>\n",
       "      <td>credit_card</td>\n",
       "      <td>success</td>\n",
       "      <td>1000</td>\n",
       "      <td>2018-01-01</td>\n",
       "    </tr>\n",
       "    <tr>\n",
       "      <th>1</th>\n",
       "      <td>2</td>\n",
       "      <td>2</td>\n",
       "      <td>credit_card</td>\n",
       "      <td>success</td>\n",
       "      <td>2000</td>\n",
       "      <td>2018-01-02</td>\n",
       "    </tr>\n",
       "    <tr>\n",
       "      <th>2</th>\n",
       "      <td>3</td>\n",
       "      <td>3</td>\n",
       "      <td>coupon</td>\n",
       "      <td>success</td>\n",
       "      <td>100</td>\n",
       "      <td>2018-01-04</td>\n",
       "    </tr>\n",
       "    <tr>\n",
       "      <th>3</th>\n",
       "      <td>4</td>\n",
       "      <td>4</td>\n",
       "      <td>coupon</td>\n",
       "      <td>success</td>\n",
       "      <td>2500</td>\n",
       "      <td>2018-01-05</td>\n",
       "    </tr>\n",
       "    <tr>\n",
       "      <th>4</th>\n",
       "      <td>5</td>\n",
       "      <td>5</td>\n",
       "      <td>bank_transfer</td>\n",
       "      <td>fail</td>\n",
       "      <td>1700</td>\n",
       "      <td>2018-01-05</td>\n",
       "    </tr>\n",
       "  </tbody>\n",
       "</table>\n",
       "</div>"
      ],
      "text/plain": [
       "   PAYMENT_ID  ORDER_ID PAYMENT_METHOD   STATUS  AMOUNT     CREATED\n",
       "0           1         1    credit_card  success    1000  2018-01-01\n",
       "1           2         2    credit_card  success    2000  2018-01-02\n",
       "2           3         3         coupon  success     100  2018-01-04\n",
       "3           4         4         coupon  success    2500  2018-01-05\n",
       "4           5         5  bank_transfer     fail    1700  2018-01-05"
      ]
     },
     "execution_count": 101,
     "metadata": {},
     "output_type": "execute_result"
    }
   ],
   "source": [
    "payments.head()"
   ]
  },
  {
   "cell_type": "markdown",
   "id": "6a93b42b",
   "metadata": {},
   "source": [
    "#### Important to check STATUS when analyzing the whole df.\n",
    "#### "
   ]
  },
  {
   "cell_type": "markdown",
   "id": "eedc06e1",
   "metadata": {},
   "source": [
    "# ANALYSIS"
   ]
  },
  {
   "cell_type": "markdown",
   "id": "b2e67e8f",
   "metadata": {},
   "source": [
    "### CUSTOMERS"
   ]
  },
  {
   "cell_type": "code",
   "execution_count": 102,
   "id": "7e8c2fc6",
   "metadata": {},
   "outputs": [
    {
     "name": "stdout",
     "output_type": "stream",
     "text": [
      "There are no duplicated values in first and lastname.\n"
     ]
    }
   ],
   "source": [
    "# We check if someone have the same combination of first and last name\n",
    "\n",
    "duplicated_values = customers[customers.duplicated(subset=['FIRST_NAME', 'LAST_NAME'])]\n",
    "\n",
    "if len(duplicated_values) > 0:\n",
    "    print('The following values are duplicated:')\n",
    "    print(duplicated_values)\n",
    "    \n",
    "else:\n",
    "    print('There are no duplicated values in first and lastname.')\n",
    "    "
   ]
  },
  {
   "cell_type": "markdown",
   "id": "99fa0800",
   "metadata": {},
   "source": [
    "### ORDERS"
   ]
  },
  {
   "cell_type": "code",
   "execution_count": 103,
   "id": "f4bd0699",
   "metadata": {},
   "outputs": [
    {
     "data": {
      "text/plain": [
       "<Axes: >"
      ]
     },
     "execution_count": 103,
     "metadata": {},
     "output_type": "execute_result"
    },
    {
     "data": {
      "image/png": "[encoded data removed]",
      "text/plain": [
       "<Figure size 500x300 with 1 Axes>"
      ]
     },
     "metadata": {},
     "output_type": "display_data"
    }
   ],
   "source": [
    "# count the occurrences of each distinct value in column B\n",
    "value_counts = orders['STATUS'].value_counts()\n",
    "value_counts.plot(kind = 'bar', figsize=(5, 3))"
   ]
  },
  {
   "cell_type": "markdown",
   "id": "3f39443c",
   "metadata": {},
   "source": [
    "### PAYMENTS"
   ]
  },
  {
   "cell_type": "code",
   "execution_count": 104,
   "id": "d6b51271",
   "metadata": {},
   "outputs": [
    {
     "data": {
      "image/png": "[encoded data removed]",
      "text/plain": [
       "<Figure size 640x480 with 1 Axes>"
      ]
     },
     "metadata": {},
     "output_type": "display_data"
    }
   ],
   "source": [
    "value_counts = payments.groupby(['STATUS', 'PAYMENT_METHOD']).size().reset_index(name='count')\n",
    "sns.barplot(x='PAYMENT_METHOD', y='count', hue='STATUS', data=value_counts)\n",
    "plt.show()\n"
   ]
  },
  {
   "cell_type": "markdown",
   "id": "bdb89944",
   "metadata": {},
   "source": [
    "### We realize most of our sells are made with credit_card and bank_transfer\n",
    "### "
   ]
  },
  {
   "cell_type": "markdown",
   "id": "123c1017",
   "metadata": {},
   "source": [
    "### Connect db with SQLite"
   ]
  },
  {
   "cell_type": "code",
   "execution_count": 36,
   "id": "bf3cc8dd",
   "metadata": {},
   "outputs": [],
   "source": [
    "conn = sqlite3.connect('shop.db')\n",
    "cur = conn.cursor()"
   ]
  },
  {
   "cell_type": "code",
   "execution_count": 6,
   "id": "da4eadc3",
   "metadata": {},
   "outputs": [],
   "source": [
    "#customers.to_sql('customers', conn, if_exists='replace', index=False)\n",
    "#orders.to_sql('orders', conn, if_exists='replace', index=False)\n",
    "#payments.to_sql('payments', conn, if_exists='replace', index=False)"
   ]
  },
  {
   "cell_type": "markdown",
   "id": "1e1f44d8",
   "metadata": {},
   "source": [
    "# QUERYS"
   ]
  },
  {
   "cell_type": "markdown",
   "id": "ab67f4c7",
   "metadata": {},
   "source": [
    "### Check which status and how many do we have"
   ]
  },
  {
   "cell_type": "code",
   "execution_count": 47,
   "id": "0e0d8ae3",
   "metadata": {},
   "outputs": [],
   "source": [
    "query = '''\n",
    "SELECT o.status, p.status, count(*) FROM payments p\n",
    "LEFT JOIN orders o on\n",
    "o.ORDER_ID = p.ORDER_ID\n",
    "group by p.status, o.status\n",
    "'''"
   ]
  },
  {
   "cell_type": "code",
   "execution_count": 48,
   "id": "0061ec31",
   "metadata": {},
   "outputs": [
    {
     "data": {
      "text/html": [
       "<div>\n",
       "<style scoped>\n",
       "    .dataframe tbody tr th:only-of-type {\n",
       "        vertical-align: middle;\n",
       "    }\n",
       "\n",
       "    .dataframe tbody tr th {\n",
       "        vertical-align: top;\n",
       "    }\n",
       "\n",
       "    .dataframe thead th {\n",
       "        text-align: right;\n",
       "    }\n",
       "</style>\n",
       "<table border=\"1\" class=\"dataframe\">\n",
       "  <thead>\n",
       "    <tr style=\"text-align: right;\">\n",
       "      <th></th>\n",
       "      <th>STATUS</th>\n",
       "      <th>STATUS</th>\n",
       "      <th>count(*)</th>\n",
       "    </tr>\n",
       "  </thead>\n",
       "  <tbody>\n",
       "    <tr>\n",
       "      <th>0</th>\n",
       "      <td>completed</td>\n",
       "      <td>fail</td>\n",
       "      <td>5</td>\n",
       "    </tr>\n",
       "    <tr>\n",
       "      <th>1</th>\n",
       "      <td>placed</td>\n",
       "      <td>fail</td>\n",
       "      <td>1</td>\n",
       "    </tr>\n",
       "    <tr>\n",
       "      <th>2</th>\n",
       "      <td>return_pending</td>\n",
       "      <td>fail</td>\n",
       "      <td>1</td>\n",
       "    </tr>\n",
       "    <tr>\n",
       "      <th>3</th>\n",
       "      <td>completed</td>\n",
       "      <td>success</td>\n",
       "      <td>76</td>\n",
       "    </tr>\n",
       "    <tr>\n",
       "      <th>4</th>\n",
       "      <td>placed</td>\n",
       "      <td>success</td>\n",
       "      <td>15</td>\n",
       "    </tr>\n",
       "    <tr>\n",
       "      <th>5</th>\n",
       "      <td>return_pending</td>\n",
       "      <td>success</td>\n",
       "      <td>2</td>\n",
       "    </tr>\n",
       "    <tr>\n",
       "      <th>6</th>\n",
       "      <td>returned</td>\n",
       "      <td>success</td>\n",
       "      <td>5</td>\n",
       "    </tr>\n",
       "    <tr>\n",
       "      <th>7</th>\n",
       "      <td>shipped</td>\n",
       "      <td>success</td>\n",
       "      <td>15</td>\n",
       "    </tr>\n",
       "  </tbody>\n",
       "</table>\n",
       "</div>"
      ],
      "text/plain": [
       "           STATUS   STATUS  count(*)\n",
       "0       completed     fail         5\n",
       "1          placed     fail         1\n",
       "2  return_pending     fail         1\n",
       "3       completed  success        76\n",
       "4          placed  success        15\n",
       "5  return_pending  success         2\n",
       "6        returned  success         5\n",
       "7         shipped  success        15"
      ]
     },
     "execution_count": 48,
     "metadata": {},
     "output_type": "execute_result"
    }
   ],
   "source": [
    "pd.read_sql_query(query, conn)"
   ]
  },
  {
   "cell_type": "markdown",
   "id": "3cbd393c",
   "metadata": {},
   "source": [
    "### Discover we have payments with a repeated order_id"
   ]
  },
  {
   "cell_type": "code",
   "execution_count": 108,
   "id": "7aa69ca8",
   "metadata": {},
   "outputs": [],
   "source": [
    "query = '''\n",
    "select p.* from (select order_id, count(*) as rep from payments\n",
    "group by order_id) as sq\n",
    "left join payments p \n",
    "on p.order_id = sq.order_id\n",
    "where rep > 1\n",
    "limit 9\n",
    "               \n",
    "'''"
   ]
  },
  {
   "cell_type": "code",
   "execution_count": 109,
   "id": "518b39fb",
   "metadata": {},
   "outputs": [
    {
     "data": {
      "text/html": [
       "<div>\n",
       "<style scoped>\n",
       "    .dataframe tbody tr th:only-of-type {\n",
       "        vertical-align: middle;\n",
       "    }\n",
       "\n",
       "    .dataframe tbody tr th {\n",
       "        vertical-align: top;\n",
       "    }\n",
       "\n",
       "    .dataframe thead th {\n",
       "        text-align: right;\n",
       "    }\n",
       "</style>\n",
       "<table border=\"1\" class=\"dataframe\">\n",
       "  <thead>\n",
       "    <tr style=\"text-align: right;\">\n",
       "      <th></th>\n",
       "      <th>PAYMENT_ID</th>\n",
       "      <th>ORDER_ID</th>\n",
       "      <th>PAYMENT_METHOD</th>\n",
       "      <th>STATUS</th>\n",
       "      <th>AMOUNT</th>\n",
       "      <th>CREATED</th>\n",
       "    </tr>\n",
       "  </thead>\n",
       "  <tbody>\n",
       "    <tr>\n",
       "      <th>0</th>\n",
       "      <td>5</td>\n",
       "      <td>5</td>\n",
       "      <td>bank_transfer</td>\n",
       "      <td>fail</td>\n",
       "      <td>1700</td>\n",
       "      <td>2018-01-05</td>\n",
       "    </tr>\n",
       "    <tr>\n",
       "      <th>1</th>\n",
       "      <td>6</td>\n",
       "      <td>5</td>\n",
       "      <td>bank_transfer</td>\n",
       "      <td>success</td>\n",
       "      <td>1700</td>\n",
       "      <td>2018-01-05</td>\n",
       "    </tr>\n",
       "    <tr>\n",
       "      <th>2</th>\n",
       "      <td>10</td>\n",
       "      <td>9</td>\n",
       "      <td>gift_card</td>\n",
       "      <td>success</td>\n",
       "      <td>2300</td>\n",
       "      <td>2018-01-12</td>\n",
       "    </tr>\n",
       "    <tr>\n",
       "      <th>3</th>\n",
       "      <td>11</td>\n",
       "      <td>9</td>\n",
       "      <td>bank_transfer</td>\n",
       "      <td>success</td>\n",
       "      <td>0</td>\n",
       "      <td>2018-01-12</td>\n",
       "    </tr>\n",
       "    <tr>\n",
       "      <th>4</th>\n",
       "      <td>15</td>\n",
       "      <td>13</td>\n",
       "      <td>credit_card</td>\n",
       "      <td>fail</td>\n",
       "      <td>500</td>\n",
       "      <td>2018-01-17</td>\n",
       "    </tr>\n",
       "    <tr>\n",
       "      <th>5</th>\n",
       "      <td>16</td>\n",
       "      <td>13</td>\n",
       "      <td>bank_transfer</td>\n",
       "      <td>success</td>\n",
       "      <td>500</td>\n",
       "      <td>2018-01-17</td>\n",
       "    </tr>\n",
       "    <tr>\n",
       "      <th>6</th>\n",
       "      <td>17</td>\n",
       "      <td>13</td>\n",
       "      <td>bank_transfer</td>\n",
       "      <td>success</td>\n",
       "      <td>1400</td>\n",
       "      <td>2018-01-17</td>\n",
       "    </tr>\n",
       "    <tr>\n",
       "      <th>7</th>\n",
       "      <td>22</td>\n",
       "      <td>18</td>\n",
       "      <td>credit_card</td>\n",
       "      <td>success</td>\n",
       "      <td>500</td>\n",
       "      <td>2018-01-20</td>\n",
       "    </tr>\n",
       "    <tr>\n",
       "      <th>8</th>\n",
       "      <td>23</td>\n",
       "      <td>18</td>\n",
       "      <td>credit_card</td>\n",
       "      <td>success</td>\n",
       "      <td>800</td>\n",
       "      <td>2018-01-20</td>\n",
       "    </tr>\n",
       "  </tbody>\n",
       "</table>\n",
       "</div>"
      ],
      "text/plain": [
       "   PAYMENT_ID  ORDER_ID PAYMENT_METHOD   STATUS  AMOUNT     CREATED\n",
       "0           5         5  bank_transfer     fail    1700  2018-01-05\n",
       "1           6         5  bank_transfer  success    1700  2018-01-05\n",
       "2          10         9      gift_card  success    2300  2018-01-12\n",
       "3          11         9  bank_transfer  success       0  2018-01-12\n",
       "4          15        13    credit_card     fail     500  2018-01-17\n",
       "5          16        13  bank_transfer  success     500  2018-01-17\n",
       "6          17        13  bank_transfer  success    1400  2018-01-17\n",
       "7          22        18    credit_card  success     500  2018-01-20\n",
       "8          23        18    credit_card  success     800  2018-01-20"
      ]
     },
     "execution_count": 109,
     "metadata": {},
     "output_type": "execute_result"
    }
   ],
   "source": [
    "pd.read_sql_query(query, conn)"
   ]
  },
  {
   "cell_type": "markdown",
   "id": "decca740",
   "metadata": {},
   "source": [
    "### Check sum of amounts where payment status = success"
   ]
  },
  {
   "cell_type": "code",
   "execution_count": 56,
   "id": "23d3e2cf",
   "metadata": {},
   "outputs": [],
   "source": [
    "query = '''\n",
    "select o.status, sum(amount) from payments p\n",
    "left join orders o on\n",
    "p.order_id = o.order_id\n",
    "where p.status = 'success'\n",
    "group by o.status\n",
    "               \n",
    "'''"
   ]
  },
  {
   "cell_type": "code",
   "execution_count": 57,
   "id": "5c9085bb",
   "metadata": {},
   "outputs": [
    {
     "data": {
      "text/html": [
       "<div>\n",
       "<style scoped>\n",
       "    .dataframe tbody tr th:only-of-type {\n",
       "        vertical-align: middle;\n",
       "    }\n",
       "\n",
       "    .dataframe tbody tr th {\n",
       "        vertical-align: top;\n",
       "    }\n",
       "\n",
       "    .dataframe thead th {\n",
       "        text-align: right;\n",
       "    }\n",
       "</style>\n",
       "<table border=\"1\" class=\"dataframe\">\n",
       "  <thead>\n",
       "    <tr style=\"text-align: right;\">\n",
       "      <th></th>\n",
       "      <th>STATUS</th>\n",
       "      <th>sum(amount)</th>\n",
       "    </tr>\n",
       "  </thead>\n",
       "  <tbody>\n",
       "    <tr>\n",
       "      <th>0</th>\n",
       "      <td>completed</td>\n",
       "      <td>110300</td>\n",
       "    </tr>\n",
       "    <tr>\n",
       "      <th>1</th>\n",
       "      <td>placed</td>\n",
       "      <td>28400</td>\n",
       "    </tr>\n",
       "    <tr>\n",
       "      <th>2</th>\n",
       "      <td>return_pending</td>\n",
       "      <td>3800</td>\n",
       "    </tr>\n",
       "    <tr>\n",
       "      <th>3</th>\n",
       "      <td>returned</td>\n",
       "      <td>4900</td>\n",
       "    </tr>\n",
       "    <tr>\n",
       "      <th>4</th>\n",
       "      <td>shipped</td>\n",
       "      <td>19800</td>\n",
       "    </tr>\n",
       "  </tbody>\n",
       "</table>\n",
       "</div>"
      ],
      "text/plain": [
       "           STATUS  sum(amount)\n",
       "0       completed       110300\n",
       "1          placed        28400\n",
       "2  return_pending         3800\n",
       "3        returned         4900\n",
       "4         shipped        19800"
      ]
     },
     "execution_count": 57,
     "metadata": {},
     "output_type": "execute_result"
    }
   ],
   "source": [
    "pd.read_sql_query(query, conn)"
   ]
  },
  {
   "cell_type": "markdown",
   "id": "b6a0d444",
   "metadata": {},
   "source": [
    "### Check sum of amounts where payment status = fail"
   ]
  },
  {
   "cell_type": "code",
   "execution_count": 28,
   "id": "fddd612c",
   "metadata": {},
   "outputs": [],
   "source": [
    "query = '''\n",
    "select o.status, sum(amount) from payments p\n",
    "left join orders o on\n",
    "p.order_id = o.order_id\n",
    "where p.status = 'fail'\n",
    "group by o.status\n",
    "               \n",
    "'''"
   ]
  },
  {
   "cell_type": "code",
   "execution_count": 29,
   "id": "9ea51af6",
   "metadata": {},
   "outputs": [
    {
     "data": {
      "text/html": [
       "<div>\n",
       "<style scoped>\n",
       "    .dataframe tbody tr th:only-of-type {\n",
       "        vertical-align: middle;\n",
       "    }\n",
       "\n",
       "    .dataframe tbody tr th {\n",
       "        vertical-align: top;\n",
       "    }\n",
       "\n",
       "    .dataframe thead th {\n",
       "        text-align: right;\n",
       "    }\n",
       "</style>\n",
       "<table border=\"1\" class=\"dataframe\">\n",
       "  <thead>\n",
       "    <tr style=\"text-align: right;\">\n",
       "      <th></th>\n",
       "      <th>STATUS</th>\n",
       "      <th>sum(amount)</th>\n",
       "    </tr>\n",
       "  </thead>\n",
       "  <tbody>\n",
       "    <tr>\n",
       "      <th>0</th>\n",
       "      <td>completed</td>\n",
       "      <td>6100</td>\n",
       "    </tr>\n",
       "    <tr>\n",
       "      <th>1</th>\n",
       "      <td>placed</td>\n",
       "      <td>700</td>\n",
       "    </tr>\n",
       "    <tr>\n",
       "      <th>2</th>\n",
       "      <td>return_pending</td>\n",
       "      <td>2300</td>\n",
       "    </tr>\n",
       "  </tbody>\n",
       "</table>\n",
       "</div>"
      ],
      "text/plain": [
       "           STATUS  sum(amount)\n",
       "0       completed         6100\n",
       "1          placed          700\n",
       "2  return_pending         2300"
      ]
     },
     "execution_count": 29,
     "metadata": {},
     "output_type": "execute_result"
    }
   ],
   "source": [
    "pd.read_sql_query(query, conn)"
   ]
  },
  {
   "cell_type": "markdown",
   "id": "3ccc2635",
   "metadata": {},
   "source": [
    "### Range of dates of our df"
   ]
  },
  {
   "cell_type": "code",
   "execution_count": 37,
   "id": "b9b70106",
   "metadata": {},
   "outputs": [],
   "source": [
    "query = '''\n",
    "select min(created), max(created) from payments\n",
    "               \n",
    "'''"
   ]
  },
  {
   "cell_type": "code",
   "execution_count": 38,
   "id": "0d6c7317",
   "metadata": {},
   "outputs": [
    {
     "data": {
      "text/html": [
       "<div>\n",
       "<style scoped>\n",
       "    .dataframe tbody tr th:only-of-type {\n",
       "        vertical-align: middle;\n",
       "    }\n",
       "\n",
       "    .dataframe tbody tr th {\n",
       "        vertical-align: top;\n",
       "    }\n",
       "\n",
       "    .dataframe thead th {\n",
       "        text-align: right;\n",
       "    }\n",
       "</style>\n",
       "<table border=\"1\" class=\"dataframe\">\n",
       "  <thead>\n",
       "    <tr style=\"text-align: right;\">\n",
       "      <th></th>\n",
       "      <th>min(created)</th>\n",
       "      <th>max(created)</th>\n",
       "    </tr>\n",
       "  </thead>\n",
       "  <tbody>\n",
       "    <tr>\n",
       "      <th>0</th>\n",
       "      <td>2018-01-01</td>\n",
       "      <td>2018-04-09</td>\n",
       "    </tr>\n",
       "  </tbody>\n",
       "</table>\n",
       "</div>"
      ],
      "text/plain": [
       "  min(created) max(created)\n",
       "0   2018-01-01   2018-04-09"
      ]
     },
     "execution_count": 38,
     "metadata": {},
     "output_type": "execute_result"
    }
   ],
   "source": [
    "pd.read_sql_query(query, conn)"
   ]
  },
  {
   "cell_type": "markdown",
   "id": "7392994c",
   "metadata": {},
   "source": [
    "### Amount of successfully sales, divided by month"
   ]
  },
  {
   "cell_type": "code",
   "execution_count": 106,
   "id": "2a61cd77",
   "metadata": {},
   "outputs": [],
   "source": [
    "query = '''\n",
    "select month, status2, sum(amount) \n",
    "from(select *, o.status as status2, strftime('%m', p.created) AS month from payments p\n",
    "    left join orders o on\n",
    "    p.order_id = o.order_id\n",
    "    where p.status = 'success') as sq\n",
    "group by month, status2\n",
    "\n",
    "               \n",
    "'''"
   ]
  },
  {
   "cell_type": "code",
   "execution_count": 107,
   "id": "e9e28895",
   "metadata": {},
   "outputs": [
    {
     "data": {
      "text/html": [
       "<div>\n",
       "<style scoped>\n",
       "    .dataframe tbody tr th:only-of-type {\n",
       "        vertical-align: middle;\n",
       "    }\n",
       "\n",
       "    .dataframe tbody tr th {\n",
       "        vertical-align: top;\n",
       "    }\n",
       "\n",
       "    .dataframe thead th {\n",
       "        text-align: right;\n",
       "    }\n",
       "</style>\n",
       "<table border=\"1\" class=\"dataframe\">\n",
       "  <thead>\n",
       "    <tr style=\"text-align: right;\">\n",
       "      <th></th>\n",
       "      <th>month</th>\n",
       "      <th>status2</th>\n",
       "      <th>sum(amount)</th>\n",
       "    </tr>\n",
       "  </thead>\n",
       "  <tbody>\n",
       "    <tr>\n",
       "      <th>0</th>\n",
       "      <td>01</td>\n",
       "      <td>completed</td>\n",
       "      <td>42400</td>\n",
       "    </tr>\n",
       "    <tr>\n",
       "      <th>1</th>\n",
       "      <td>01</td>\n",
       "      <td>return_pending</td>\n",
       "      <td>2300</td>\n",
       "    </tr>\n",
       "    <tr>\n",
       "      <th>2</th>\n",
       "      <td>01</td>\n",
       "      <td>returned</td>\n",
       "      <td>4900</td>\n",
       "    </tr>\n",
       "    <tr>\n",
       "      <th>3</th>\n",
       "      <td>02</td>\n",
       "      <td>completed</td>\n",
       "      <td>40000</td>\n",
       "    </tr>\n",
       "    <tr>\n",
       "      <th>4</th>\n",
       "      <td>02</td>\n",
       "      <td>return_pending</td>\n",
       "      <td>1500</td>\n",
       "    </tr>\n",
       "    <tr>\n",
       "      <th>5</th>\n",
       "      <td>03</td>\n",
       "      <td>completed</td>\n",
       "      <td>27900</td>\n",
       "    </tr>\n",
       "    <tr>\n",
       "      <th>6</th>\n",
       "      <td>03</td>\n",
       "      <td>placed</td>\n",
       "      <td>14500</td>\n",
       "    </tr>\n",
       "    <tr>\n",
       "      <th>7</th>\n",
       "      <td>03</td>\n",
       "      <td>shipped</td>\n",
       "      <td>19800</td>\n",
       "    </tr>\n",
       "    <tr>\n",
       "      <th>8</th>\n",
       "      <td>04</td>\n",
       "      <td>placed</td>\n",
       "      <td>13900</td>\n",
       "    </tr>\n",
       "  </tbody>\n",
       "</table>\n",
       "</div>"
      ],
      "text/plain": [
       "  month         status2  sum(amount)\n",
       "0    01       completed        42400\n",
       "1    01  return_pending         2300\n",
       "2    01        returned         4900\n",
       "3    02       completed        40000\n",
       "4    02  return_pending         1500\n",
       "5    03       completed        27900\n",
       "6    03          placed        14500\n",
       "7    03         shipped        19800\n",
       "8    04          placed        13900"
      ]
     },
     "execution_count": 107,
     "metadata": {},
     "output_type": "execute_result"
    }
   ],
   "source": [
    "pd.read_sql_query(query, conn)"
   ]
  },
  {
   "cell_type": "code",
   "execution_count": 98,
   "id": "9fc81ecf",
   "metadata": {},
   "outputs": [],
   "source": [
    "query = '''\n",
    "select *, strftime('%m', p.created) AS month from payments p\n",
    "    left join orders o on\n",
    "    p.order_id = o.order_id\n",
    "    where p.status = 'success'\n",
    "'''"
   ]
  },
  {
   "cell_type": "code",
   "execution_count": 99,
   "id": "5fb18923",
   "metadata": {},
   "outputs": [
    {
     "data": {
      "text/html": [
       "<div>\n",
       "<style scoped>\n",
       "    .dataframe tbody tr th:only-of-type {\n",
       "        vertical-align: middle;\n",
       "    }\n",
       "\n",
       "    .dataframe tbody tr th {\n",
       "        vertical-align: top;\n",
       "    }\n",
       "\n",
       "    .dataframe thead th {\n",
       "        text-align: right;\n",
       "    }\n",
       "</style>\n",
       "<table border=\"1\" class=\"dataframe\">\n",
       "  <thead>\n",
       "    <tr style=\"text-align: right;\">\n",
       "      <th></th>\n",
       "      <th>PAYMENT_ID</th>\n",
       "      <th>ORDER_ID</th>\n",
       "      <th>PAYMENT_METHOD</th>\n",
       "      <th>STATUS</th>\n",
       "      <th>AMOUNT</th>\n",
       "      <th>CREATED</th>\n",
       "      <th>ORDER_ID</th>\n",
       "      <th>CUSTOMER_ID</th>\n",
       "      <th>ORDER_DATE</th>\n",
       "      <th>STATUS</th>\n",
       "      <th>month</th>\n",
       "    </tr>\n",
       "  </thead>\n",
       "  <tbody>\n",
       "    <tr>\n",
       "      <th>0</th>\n",
       "      <td>1</td>\n",
       "      <td>1</td>\n",
       "      <td>credit_card</td>\n",
       "      <td>success</td>\n",
       "      <td>1000</td>\n",
       "      <td>2018-01-01</td>\n",
       "      <td>1</td>\n",
       "      <td>1</td>\n",
       "      <td>2018-01-01</td>\n",
       "      <td>returned</td>\n",
       "      <td>01</td>\n",
       "    </tr>\n",
       "    <tr>\n",
       "      <th>1</th>\n",
       "      <td>2</td>\n",
       "      <td>2</td>\n",
       "      <td>credit_card</td>\n",
       "      <td>success</td>\n",
       "      <td>2000</td>\n",
       "      <td>2018-01-02</td>\n",
       "      <td>2</td>\n",
       "      <td>3</td>\n",
       "      <td>2018-01-02</td>\n",
       "      <td>completed</td>\n",
       "      <td>01</td>\n",
       "    </tr>\n",
       "    <tr>\n",
       "      <th>2</th>\n",
       "      <td>3</td>\n",
       "      <td>3</td>\n",
       "      <td>coupon</td>\n",
       "      <td>success</td>\n",
       "      <td>100</td>\n",
       "      <td>2018-01-04</td>\n",
       "      <td>3</td>\n",
       "      <td>94</td>\n",
       "      <td>2018-01-04</td>\n",
       "      <td>completed</td>\n",
       "      <td>01</td>\n",
       "    </tr>\n",
       "    <tr>\n",
       "      <th>3</th>\n",
       "      <td>4</td>\n",
       "      <td>4</td>\n",
       "      <td>coupon</td>\n",
       "      <td>success</td>\n",
       "      <td>2500</td>\n",
       "      <td>2018-01-05</td>\n",
       "      <td>4</td>\n",
       "      <td>50</td>\n",
       "      <td>2018-01-05</td>\n",
       "      <td>completed</td>\n",
       "      <td>01</td>\n",
       "    </tr>\n",
       "    <tr>\n",
       "      <th>4</th>\n",
       "      <td>6</td>\n",
       "      <td>5</td>\n",
       "      <td>bank_transfer</td>\n",
       "      <td>success</td>\n",
       "      <td>1700</td>\n",
       "      <td>2018-01-05</td>\n",
       "      <td>5</td>\n",
       "      <td>64</td>\n",
       "      <td>2018-01-05</td>\n",
       "      <td>completed</td>\n",
       "      <td>01</td>\n",
       "    </tr>\n",
       "    <tr>\n",
       "      <th>...</th>\n",
       "      <td>...</td>\n",
       "      <td>...</td>\n",
       "      <td>...</td>\n",
       "      <td>...</td>\n",
       "      <td>...</td>\n",
       "      <td>...</td>\n",
       "      <td>...</td>\n",
       "      <td>...</td>\n",
       "      <td>...</td>\n",
       "      <td>...</td>\n",
       "      <td>...</td>\n",
       "    </tr>\n",
       "    <tr>\n",
       "      <th>108</th>\n",
       "      <td>116</td>\n",
       "      <td>95</td>\n",
       "      <td>coupon</td>\n",
       "      <td>success</td>\n",
       "      <td>2400</td>\n",
       "      <td>2018-04-04</td>\n",
       "      <td>95</td>\n",
       "      <td>27</td>\n",
       "      <td>2018-04-04</td>\n",
       "      <td>placed</td>\n",
       "      <td>04</td>\n",
       "    </tr>\n",
       "    <tr>\n",
       "      <th>109</th>\n",
       "      <td>117</td>\n",
       "      <td>96</td>\n",
       "      <td>gift_card</td>\n",
       "      <td>success</td>\n",
       "      <td>1700</td>\n",
       "      <td>2018-04-06</td>\n",
       "      <td>96</td>\n",
       "      <td>90</td>\n",
       "      <td>2018-04-06</td>\n",
       "      <td>placed</td>\n",
       "      <td>04</td>\n",
       "    </tr>\n",
       "    <tr>\n",
       "      <th>110</th>\n",
       "      <td>118</td>\n",
       "      <td>97</td>\n",
       "      <td>bank_transfer</td>\n",
       "      <td>success</td>\n",
       "      <td>1400</td>\n",
       "      <td>2018-04-07</td>\n",
       "      <td>97</td>\n",
       "      <td>89</td>\n",
       "      <td>2018-04-07</td>\n",
       "      <td>placed</td>\n",
       "      <td>04</td>\n",
       "    </tr>\n",
       "    <tr>\n",
       "      <th>111</th>\n",
       "      <td>119</td>\n",
       "      <td>98</td>\n",
       "      <td>bank_transfer</td>\n",
       "      <td>success</td>\n",
       "      <td>1000</td>\n",
       "      <td>2018-04-07</td>\n",
       "      <td>98</td>\n",
       "      <td>41</td>\n",
       "      <td>2018-04-07</td>\n",
       "      <td>placed</td>\n",
       "      <td>04</td>\n",
       "    </tr>\n",
       "    <tr>\n",
       "      <th>112</th>\n",
       "      <td>120</td>\n",
       "      <td>99</td>\n",
       "      <td>credit_card</td>\n",
       "      <td>success</td>\n",
       "      <td>2400</td>\n",
       "      <td>2018-04-09</td>\n",
       "      <td>99</td>\n",
       "      <td>85</td>\n",
       "      <td>2018-04-09</td>\n",
       "      <td>placed</td>\n",
       "      <td>04</td>\n",
       "    </tr>\n",
       "  </tbody>\n",
       "</table>\n",
       "<p>113 rows × 11 columns</p>\n",
       "</div>"
      ],
      "text/plain": [
       "     PAYMENT_ID  ORDER_ID PAYMENT_METHOD   STATUS  AMOUNT     CREATED  \\\n",
       "0             1         1    credit_card  success    1000  2018-01-01   \n",
       "1             2         2    credit_card  success    2000  2018-01-02   \n",
       "2             3         3         coupon  success     100  2018-01-04   \n",
       "3             4         4         coupon  success    2500  2018-01-05   \n",
       "4             6         5  bank_transfer  success    1700  2018-01-05   \n",
       "..          ...       ...            ...      ...     ...         ...   \n",
       "108         116        95         coupon  success    2400  2018-04-04   \n",
       "109         117        96      gift_card  success    1700  2018-04-06   \n",
       "110         118        97  bank_transfer  success    1400  2018-04-07   \n",
       "111         119        98  bank_transfer  success    1000  2018-04-07   \n",
       "112         120        99    credit_card  success    2400  2018-04-09   \n",
       "\n",
       "     ORDER_ID  CUSTOMER_ID  ORDER_DATE     STATUS month  \n",
       "0           1            1  2018-01-01   returned    01  \n",
       "1           2            3  2018-01-02  completed    01  \n",
       "2           3           94  2018-01-04  completed    01  \n",
       "3           4           50  2018-01-05  completed    01  \n",
       "4           5           64  2018-01-05  completed    01  \n",
       "..        ...          ...         ...        ...   ...  \n",
       "108        95           27  2018-04-04     placed    04  \n",
       "109        96           90  2018-04-06     placed    04  \n",
       "110        97           89  2018-04-07     placed    04  \n",
       "111        98           41  2018-04-07     placed    04  \n",
       "112        99           85  2018-04-09     placed    04  \n",
       "\n",
       "[113 rows x 11 columns]"
      ]
     },
     "execution_count": 99,
     "metadata": {},
     "output_type": "execute_result"
    }
   ],
   "source": [
    "pd.read_sql_query(query, conn)"
   ]
  },
  {
   "cell_type": "code",
   "execution_count": 39,
   "id": "5858fc76",
   "metadata": {},
   "outputs": [],
   "source": [
    "query = '''\n",
    "select status, count(*) from orders\n",
    "group by status\n",
    "'''"
   ]
  },
  {
   "cell_type": "code",
   "execution_count": 40,
   "id": "d78de167",
   "metadata": {},
   "outputs": [
    {
     "data": {
      "text/html": [
       "<div>\n",
       "<style scoped>\n",
       "    .dataframe tbody tr th:only-of-type {\n",
       "        vertical-align: middle;\n",
       "    }\n",
       "\n",
       "    .dataframe tbody tr th {\n",
       "        vertical-align: top;\n",
       "    }\n",
       "\n",
       "    .dataframe thead th {\n",
       "        text-align: right;\n",
       "    }\n",
       "</style>\n",
       "<table border=\"1\" class=\"dataframe\">\n",
       "  <thead>\n",
       "    <tr style=\"text-align: right;\">\n",
       "      <th></th>\n",
       "      <th>STATUS</th>\n",
       "      <th>count(*)</th>\n",
       "    </tr>\n",
       "  </thead>\n",
       "  <tbody>\n",
       "    <tr>\n",
       "      <th>0</th>\n",
       "      <td>completed</td>\n",
       "      <td>67</td>\n",
       "    </tr>\n",
       "    <tr>\n",
       "      <th>1</th>\n",
       "      <td>placed</td>\n",
       "      <td>13</td>\n",
       "    </tr>\n",
       "    <tr>\n",
       "      <th>2</th>\n",
       "      <td>return_pending</td>\n",
       "      <td>2</td>\n",
       "    </tr>\n",
       "    <tr>\n",
       "      <th>3</th>\n",
       "      <td>returned</td>\n",
       "      <td>4</td>\n",
       "    </tr>\n",
       "    <tr>\n",
       "      <th>4</th>\n",
       "      <td>shipped</td>\n",
       "      <td>13</td>\n",
       "    </tr>\n",
       "  </tbody>\n",
       "</table>\n",
       "</div>"
      ],
      "text/plain": [
       "           STATUS  count(*)\n",
       "0       completed        67\n",
       "1          placed        13\n",
       "2  return_pending         2\n",
       "3        returned         4\n",
       "4         shipped        13"
      ]
     },
     "execution_count": 40,
     "metadata": {},
     "output_type": "execute_result"
    }
   ],
   "source": [
    "pd.read_sql_query(query, conn)"
   ]
  },
  {
   "cell_type": "code",
   "execution_count": null,
   "id": "3cd5a134",
   "metadata": {},
   "outputs": [],
   "source": []
  }
 ],
 "metadata": {
  "kernelspec": {
   "display_name": "Python 3 (ipykernel)",
   "language": "python",
   "name": "python3"
  },
  "language_info": {
   "codemirror_mode": {
    "name": "ipython",
    "version": 3
   },
   "file_extension": ".py",
   "mimetype": "text/x-python",
   "name": "python",
   "nbconvert_exporter": "python",
   "pygments_lexer": "ipython3",
   "version": "3.11.0"
  }
 },
 "nbformat": 4,
 "nbformat_minor": 5
}
